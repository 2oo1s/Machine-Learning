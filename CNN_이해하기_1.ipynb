{
  "nbformat": 4,
  "nbformat_minor": 0,
  "metadata": {
    "colab": {
      "provenance": [],
      "authorship_tag": "ABX9TyMmAz9AgziYO01S9gM5yF+Z",
      "include_colab_link": true
    },
    "kernelspec": {
      "name": "python3",
      "display_name": "Python 3"
    },
    "language_info": {
      "name": "python"
    }
  },
  "cells": [
    {
      "cell_type": "markdown",
      "metadata": {
        "id": "view-in-github",
        "colab_type": "text"
      },
      "source": [
        "<a href=\"https://colab.research.google.com/github/2oo1s/Machine-Learning/blob/main/CNN_%EC%9D%B4%ED%95%B4%ED%95%98%EA%B8%B0_1.ipynb\" target=\"_parent\"><img src=\"https://colab.research.google.com/assets/colab-badge.svg\" alt=\"Open In Colab\"/></a>"
      ]
    },
    {
      "cell_type": "code",
      "execution_count": 1,
      "metadata": {
        "id": "JzXaDqe4fY97"
      },
      "outputs": [],
      "source": [
        "from sklearn.datasets import load_sample_images\n",
        "import tensorflow as tf\n",
        "\n",
        "images = load_sample_images()[\"images\"]\n",
        "images = tf.keras.layers.CenterCrop(height = 70, width = 120)(images)\n",
        "images = tf.keras.layers.Rescaling(scale = 1 / 250)(images)"
      ]
    },
    {
      "cell_type": "code",
      "source": [
        "images.shape"
      ],
      "metadata": {
        "colab": {
          "base_uri": "https://localhost:8080/"
        },
        "id": "3gPtSHEcf3ut",
        "outputId": "175e9e2a-85e1-49ce-a270-129c1f4f5a53"
      },
      "execution_count": 2,
      "outputs": [
        {
          "output_type": "execute_result",
          "data": {
            "text/plain": [
              "TensorShape([2, 70, 120, 3])"
            ]
          },
          "metadata": {},
          "execution_count": 2
        }
      ]
    },
    {
      "cell_type": "code",
      "source": [
        "# 4D 텐서가 출력\n",
        "# 첫번째 차원 : 2개의 샘플 이미지가 있다는 것을 설명\n",
        "# 두번째 차원 & 세번째 차원 : 이미지의 크기\n",
        "# 마지막 차원 : 각 픽셀은 컬러 채널당 하나의 값을 가짐 -> 빨강, 초록, 파랑 세 개의 채널이 있으므로 3"
      ],
      "metadata": {
        "id": "qGUikqgwgBu4"
      },
      "execution_count": 3,
      "outputs": []
    },
    {
      "cell_type": "code",
      "source": [
        "# 크기가 7*7인 필터 32개로 구성된 합성곱층\n",
        "conv_layer = tf.keras.layers.Conv2D(filters = 32, kernel_size = 7)\n",
        "fmaps = conv_layer(images)"
      ],
      "metadata": {
        "id": "w9_HJkzghDyp"
      },
      "execution_count": 5,
      "outputs": []
    },
    {
      "cell_type": "code",
      "source": [
        "fmaps.shape"
      ],
      "metadata": {
        "colab": {
          "base_uri": "https://localhost:8080/"
        },
        "id": "8TRTYOSAhVI8",
        "outputId": "8e6fe1e8-aef4-402a-f5a7-ae7cab977009"
      },
      "execution_count": 6,
      "outputs": [
        {
          "output_type": "execute_result",
          "data": {
            "text/plain": [
              "TensorShape([2, 64, 114, 32])"
            ]
          },
          "metadata": {},
          "execution_count": 6
        }
      ]
    },
    {
      "cell_type": "code",
      "source": [
        "# filters = 32라고 지정했기 때문에 채널 개수가 32\n",
        "# 높이와 너비 6픽셀씩 줄어듦 -> Conv2D층이 기본적으로 제로패딩을 사용하지 않기 때문에"
      ],
      "metadata": {
        "id": "Vx6Qe9c3hvpg"
      },
      "execution_count": 7,
      "outputs": []
    },
    {
      "cell_type": "code",
      "source": [
        "kernels, biases = conv_layer.get_weights()\n",
        "kernels.shape"
      ],
      "metadata": {
        "colab": {
          "base_uri": "https://localhost:8080/"
        },
        "id": "HL9pxP4riGEe",
        "outputId": "9509772f-a7d9-4f9b-c6c3-095a2f51db4a"
      },
      "execution_count": 8,
      "outputs": [
        {
          "output_type": "execute_result",
          "data": {
            "text/plain": [
              "(7, 7, 3, 32)"
            ]
          },
          "metadata": {},
          "execution_count": 8
        }
      ]
    },
    {
      "cell_type": "code",
      "source": [
        "biases.shape"
      ],
      "metadata": {
        "colab": {
          "base_uri": "https://localhost:8080/"
        },
        "id": "2MiwCRjFiWbf",
        "outputId": "74441244-9080-48a5-f185-45e9d9f0c204"
      },
      "execution_count": 9,
      "outputs": [
        {
          "output_type": "execute_result",
          "data": {
            "text/plain": [
              "(32,)"
            ]
          },
          "metadata": {},
          "execution_count": 9
        }
      ]
    }
  ]
}